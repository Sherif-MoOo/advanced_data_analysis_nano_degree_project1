{
 "cells": [
  {
   "cell_type": "markdown",
   "metadata": {},
   "source": [
    "\n",
    "# Project: No-show appointments in Brazil\n",
    "\n",
    "## Table of Contents\n",
    "<ul>\n",
    "<li><a href=\"#intro\">Introduction</a></li>\n",
    "<li><a href=\"#wrangling\">Data Wrangling</a></li>\n",
    "<li><a href=\"#eda\">Exploratory Data Analysis</a></li>\n",
    "<li><a href=\"#conclusions\">Conclusions</a></li>\n",
    "</ul>"
   ]
  },
  {
   "cell_type": "markdown",
   "metadata": {},
   "source": [
    "<a id='intro'></a>\n",
    "## Introduction\n",
    "\n",
    "> Exploring no-show appointments in Brazil to find the effective features that would result on predicting if a patient will show up for their scheduled appointment \n",
    "\n",
    ">Exploring each feature trying to find underlying relations between features \n",
    "so we gonna some quistions like : Is there direct relation between features? , how many have missed the appointment ? , how many do have Scholarship?,how is the distribution of females to males ?\n",
    "\n",
    "> **packing**: Firstly, I will import packages that I will use."
   ]
  },
  {
   "cell_type": "code",
   "execution_count": 3,
   "metadata": {},
   "outputs": [],
   "source": [
    "import pandas as pd\n",
    "import matplotlib.pyplot as plt\n",
    "import seaborn as sns\n",
    "%matplotlib inline"
   ]
  },
  {
   "cell_type": "markdown",
   "metadata": {},
   "source": [
    "<a id='wrangling'></a>\n",
    "## Data Wrangling"
   ]
  },
  {
   "cell_type": "code",
   "execution_count": 4,
   "metadata": {},
   "outputs": [
    {
     "data": {
      "text/html": [
       "<div>\n",
       "<style scoped>\n",
       "    .dataframe tbody tr th:only-of-type {\n",
       "        vertical-align: middle;\n",
       "    }\n",
       "\n",
       "    .dataframe tbody tr th {\n",
       "        vertical-align: top;\n",
       "    }\n",
       "\n",
       "    .dataframe thead th {\n",
       "        text-align: right;\n",
       "    }\n",
       "</style>\n",
       "<table border=\"1\" class=\"dataframe\">\n",
       "  <thead>\n",
       "    <tr style=\"text-align: right;\">\n",
       "      <th></th>\n",
       "      <th>PatientId</th>\n",
       "      <th>AppointmentID</th>\n",
       "      <th>Gender</th>\n",
       "      <th>ScheduledDay</th>\n",
       "      <th>AppointmentDay</th>\n",
       "      <th>Age</th>\n",
       "      <th>Neighbourhood</th>\n",
       "      <th>Scholarship</th>\n",
       "      <th>Hipertension</th>\n",
       "      <th>Diabetes</th>\n",
       "      <th>Alcoholism</th>\n",
       "      <th>Handcap</th>\n",
       "      <th>SMS_received</th>\n",
       "      <th>No-show</th>\n",
       "    </tr>\n",
       "  </thead>\n",
       "  <tbody>\n",
       "    <tr>\n",
       "      <th>0</th>\n",
       "      <td>2.987250e+13</td>\n",
       "      <td>5642903</td>\n",
       "      <td>F</td>\n",
       "      <td>2016-04-29T18:38:08Z</td>\n",
       "      <td>2016-04-29T00:00:00Z</td>\n",
       "      <td>62</td>\n",
       "      <td>JARDIM DA PENHA</td>\n",
       "      <td>0</td>\n",
       "      <td>1</td>\n",
       "      <td>0</td>\n",
       "      <td>0</td>\n",
       "      <td>0</td>\n",
       "      <td>0</td>\n",
       "      <td>No</td>\n",
       "    </tr>\n",
       "    <tr>\n",
       "      <th>1</th>\n",
       "      <td>5.589978e+14</td>\n",
       "      <td>5642503</td>\n",
       "      <td>M</td>\n",
       "      <td>2016-04-29T16:08:27Z</td>\n",
       "      <td>2016-04-29T00:00:00Z</td>\n",
       "      <td>56</td>\n",
       "      <td>JARDIM DA PENHA</td>\n",
       "      <td>0</td>\n",
       "      <td>0</td>\n",
       "      <td>0</td>\n",
       "      <td>0</td>\n",
       "      <td>0</td>\n",
       "      <td>0</td>\n",
       "      <td>No</td>\n",
       "    </tr>\n",
       "    <tr>\n",
       "      <th>2</th>\n",
       "      <td>4.262962e+12</td>\n",
       "      <td>5642549</td>\n",
       "      <td>F</td>\n",
       "      <td>2016-04-29T16:19:04Z</td>\n",
       "      <td>2016-04-29T00:00:00Z</td>\n",
       "      <td>62</td>\n",
       "      <td>MATA DA PRAIA</td>\n",
       "      <td>0</td>\n",
       "      <td>0</td>\n",
       "      <td>0</td>\n",
       "      <td>0</td>\n",
       "      <td>0</td>\n",
       "      <td>0</td>\n",
       "      <td>No</td>\n",
       "    </tr>\n",
       "    <tr>\n",
       "      <th>3</th>\n",
       "      <td>8.679512e+11</td>\n",
       "      <td>5642828</td>\n",
       "      <td>F</td>\n",
       "      <td>2016-04-29T17:29:31Z</td>\n",
       "      <td>2016-04-29T00:00:00Z</td>\n",
       "      <td>8</td>\n",
       "      <td>PONTAL DE CAMBURI</td>\n",
       "      <td>0</td>\n",
       "      <td>0</td>\n",
       "      <td>0</td>\n",
       "      <td>0</td>\n",
       "      <td>0</td>\n",
       "      <td>0</td>\n",
       "      <td>No</td>\n",
       "    </tr>\n",
       "    <tr>\n",
       "      <th>4</th>\n",
       "      <td>8.841186e+12</td>\n",
       "      <td>5642494</td>\n",
       "      <td>F</td>\n",
       "      <td>2016-04-29T16:07:23Z</td>\n",
       "      <td>2016-04-29T00:00:00Z</td>\n",
       "      <td>56</td>\n",
       "      <td>JARDIM DA PENHA</td>\n",
       "      <td>0</td>\n",
       "      <td>1</td>\n",
       "      <td>1</td>\n",
       "      <td>0</td>\n",
       "      <td>0</td>\n",
       "      <td>0</td>\n",
       "      <td>No</td>\n",
       "    </tr>\n",
       "  </tbody>\n",
       "</table>\n",
       "</div>"
      ],
      "text/plain": [
       "      PatientId  AppointmentID Gender          ScheduledDay  \\\n",
       "0  2.987250e+13        5642903      F  2016-04-29T18:38:08Z   \n",
       "1  5.589978e+14        5642503      M  2016-04-29T16:08:27Z   \n",
       "2  4.262962e+12        5642549      F  2016-04-29T16:19:04Z   \n",
       "3  8.679512e+11        5642828      F  2016-04-29T17:29:31Z   \n",
       "4  8.841186e+12        5642494      F  2016-04-29T16:07:23Z   \n",
       "\n",
       "         AppointmentDay  Age      Neighbourhood  Scholarship  Hipertension  \\\n",
       "0  2016-04-29T00:00:00Z   62    JARDIM DA PENHA            0             1   \n",
       "1  2016-04-29T00:00:00Z   56    JARDIM DA PENHA            0             0   \n",
       "2  2016-04-29T00:00:00Z   62      MATA DA PRAIA            0             0   \n",
       "3  2016-04-29T00:00:00Z    8  PONTAL DE CAMBURI            0             0   \n",
       "4  2016-04-29T00:00:00Z   56    JARDIM DA PENHA            0             1   \n",
       "\n",
       "   Diabetes  Alcoholism  Handcap  SMS_received No-show  \n",
       "0         0           0        0             0      No  \n",
       "1         0           0        0             0      No  \n",
       "2         0           0        0             0      No  \n",
       "3         0           0        0             0      No  \n",
       "4         1           0        0             0      No  "
      ]
     },
     "execution_count": 4,
     "metadata": {},
     "output_type": "execute_result"
    }
   ],
   "source": [
    "df = pd.read_csv('noshowappointments-kagglev2-may-2016.csv') # Load data into a data-frame\n",
    "df.head() #getting overview of our data"
   ]
  },
  {
   "cell_type": "code",
   "execution_count": 5,
   "metadata": {},
   "outputs": [
    {
     "data": {
      "text/html": [
       "<div>\n",
       "<style scoped>\n",
       "    .dataframe tbody tr th:only-of-type {\n",
       "        vertical-align: middle;\n",
       "    }\n",
       "\n",
       "    .dataframe tbody tr th {\n",
       "        vertical-align: top;\n",
       "    }\n",
       "\n",
       "    .dataframe thead th {\n",
       "        text-align: right;\n",
       "    }\n",
       "</style>\n",
       "<table border=\"1\" class=\"dataframe\">\n",
       "  <thead>\n",
       "    <tr style=\"text-align: right;\">\n",
       "      <th></th>\n",
       "      <th>AppointmentID</th>\n",
       "      <th>Gender</th>\n",
       "      <th>ScheduledDay</th>\n",
       "      <th>AppointmentDay</th>\n",
       "      <th>Age</th>\n",
       "      <th>Neighbourhood</th>\n",
       "      <th>Scholarship</th>\n",
       "      <th>Hipertension</th>\n",
       "      <th>Diabetes</th>\n",
       "      <th>Alcoholism</th>\n",
       "      <th>Handcap</th>\n",
       "      <th>SMS_received</th>\n",
       "      <th>No-show</th>\n",
       "    </tr>\n",
       "    <tr>\n",
       "      <th>PatientId</th>\n",
       "      <th></th>\n",
       "      <th></th>\n",
       "      <th></th>\n",
       "      <th></th>\n",
       "      <th></th>\n",
       "      <th></th>\n",
       "      <th></th>\n",
       "      <th></th>\n",
       "      <th></th>\n",
       "      <th></th>\n",
       "      <th></th>\n",
       "      <th></th>\n",
       "      <th></th>\n",
       "    </tr>\n",
       "  </thead>\n",
       "  <tbody>\n",
       "    <tr>\n",
       "      <th>2.987250e+13</th>\n",
       "      <td>5642903</td>\n",
       "      <td>F</td>\n",
       "      <td>2016-04-29T18:38:08Z</td>\n",
       "      <td>2016-04-29T00:00:00Z</td>\n",
       "      <td>62</td>\n",
       "      <td>JARDIM DA PENHA</td>\n",
       "      <td>0</td>\n",
       "      <td>1</td>\n",
       "      <td>0</td>\n",
       "      <td>0</td>\n",
       "      <td>0</td>\n",
       "      <td>0</td>\n",
       "      <td>No</td>\n",
       "    </tr>\n",
       "    <tr>\n",
       "      <th>5.589978e+14</th>\n",
       "      <td>5642503</td>\n",
       "      <td>M</td>\n",
       "      <td>2016-04-29T16:08:27Z</td>\n",
       "      <td>2016-04-29T00:00:00Z</td>\n",
       "      <td>56</td>\n",
       "      <td>JARDIM DA PENHA</td>\n",
       "      <td>0</td>\n",
       "      <td>0</td>\n",
       "      <td>0</td>\n",
       "      <td>0</td>\n",
       "      <td>0</td>\n",
       "      <td>0</td>\n",
       "      <td>No</td>\n",
       "    </tr>\n",
       "    <tr>\n",
       "      <th>4.262962e+12</th>\n",
       "      <td>5642549</td>\n",
       "      <td>F</td>\n",
       "      <td>2016-04-29T16:19:04Z</td>\n",
       "      <td>2016-04-29T00:00:00Z</td>\n",
       "      <td>62</td>\n",
       "      <td>MATA DA PRAIA</td>\n",
       "      <td>0</td>\n",
       "      <td>0</td>\n",
       "      <td>0</td>\n",
       "      <td>0</td>\n",
       "      <td>0</td>\n",
       "      <td>0</td>\n",
       "      <td>No</td>\n",
       "    </tr>\n",
       "    <tr>\n",
       "      <th>8.679512e+11</th>\n",
       "      <td>5642828</td>\n",
       "      <td>F</td>\n",
       "      <td>2016-04-29T17:29:31Z</td>\n",
       "      <td>2016-04-29T00:00:00Z</td>\n",
       "      <td>8</td>\n",
       "      <td>PONTAL DE CAMBURI</td>\n",
       "      <td>0</td>\n",
       "      <td>0</td>\n",
       "      <td>0</td>\n",
       "      <td>0</td>\n",
       "      <td>0</td>\n",
       "      <td>0</td>\n",
       "      <td>No</td>\n",
       "    </tr>\n",
       "    <tr>\n",
       "      <th>8.841186e+12</th>\n",
       "      <td>5642494</td>\n",
       "      <td>F</td>\n",
       "      <td>2016-04-29T16:07:23Z</td>\n",
       "      <td>2016-04-29T00:00:00Z</td>\n",
       "      <td>56</td>\n",
       "      <td>JARDIM DA PENHA</td>\n",
       "      <td>0</td>\n",
       "      <td>1</td>\n",
       "      <td>1</td>\n",
       "      <td>0</td>\n",
       "      <td>0</td>\n",
       "      <td>0</td>\n",
       "      <td>No</td>\n",
       "    </tr>\n",
       "  </tbody>\n",
       "</table>\n",
       "</div>"
      ],
      "text/plain": [
       "              AppointmentID Gender          ScheduledDay  \\\n",
       "PatientId                                                  \n",
       "2.987250e+13        5642903      F  2016-04-29T18:38:08Z   \n",
       "5.589978e+14        5642503      M  2016-04-29T16:08:27Z   \n",
       "4.262962e+12        5642549      F  2016-04-29T16:19:04Z   \n",
       "8.679512e+11        5642828      F  2016-04-29T17:29:31Z   \n",
       "8.841186e+12        5642494      F  2016-04-29T16:07:23Z   \n",
       "\n",
       "                    AppointmentDay  Age      Neighbourhood  Scholarship  \\\n",
       "PatientId                                                                 \n",
       "2.987250e+13  2016-04-29T00:00:00Z   62    JARDIM DA PENHA            0   \n",
       "5.589978e+14  2016-04-29T00:00:00Z   56    JARDIM DA PENHA            0   \n",
       "4.262962e+12  2016-04-29T00:00:00Z   62      MATA DA PRAIA            0   \n",
       "8.679512e+11  2016-04-29T00:00:00Z    8  PONTAL DE CAMBURI            0   \n",
       "8.841186e+12  2016-04-29T00:00:00Z   56    JARDIM DA PENHA            0   \n",
       "\n",
       "              Hipertension  Diabetes  Alcoholism  Handcap  SMS_received  \\\n",
       "PatientId                                                                 \n",
       "2.987250e+13             1         0           0        0             0   \n",
       "5.589978e+14             0         0           0        0             0   \n",
       "4.262962e+12             0         0           0        0             0   \n",
       "8.679512e+11             0         0           0        0             0   \n",
       "8.841186e+12             1         1           0        0             0   \n",
       "\n",
       "             No-show  \n",
       "PatientId             \n",
       "2.987250e+13      No  \n",
       "5.589978e+14      No  \n",
       "4.262962e+12      No  \n",
       "8.679512e+11      No  \n",
       "8.841186e+12      No  "
      ]
     },
     "execution_count": 5,
     "metadata": {},
     "output_type": "execute_result"
    }
   ],
   "source": [
    "df.set_index('PatientId', inplace=True)\n",
    "df.head() #set PatientId as an index"
   ]
  },
  {
   "cell_type": "code",
   "execution_count": 6,
   "metadata": {},
   "outputs": [
    {
     "name": "stdout",
     "output_type": "stream",
     "text": [
      "Gender\n",
      "['F' 'M']\n",
      "Scholarship\n",
      "[0 1]\n",
      "Hipertension\n",
      "[1 0]\n",
      "Diabetes\n",
      "[0 1]\n",
      "Alcoholism\n",
      "[0 1]\n",
      "Handcap\n",
      "[0 1 2 3 4]\n",
      "SMS_received\n",
      "[0 1]\n",
      "No-show\n",
      "['No' 'Yes']\n",
      "max_age: 115\n",
      "min_age: -1\n"
     ]
    }
   ],
   "source": [
    "#Checking the logic of our columns values\n",
    "Columns = ['Gender','Scholarship','Hipertension','Diabetes','Alcoholism','Handcap','SMS_received','No-show']\n",
    "for c in Columns:\n",
    "    Uni = df[c].unique()\n",
    "    print (c)\n",
    "    print (Uni)\n",
    "#Columns variable logic seems to be fine and finding that Handcap has range of 5 levels but,   \n",
    "print('max_age: ' + str(df['Age'].max()))\n",
    "print('min_age: ' + str(df['Age'].min()))\n",
    "#there's a problem and an obvious one in minumum also in the maximum age after checking List of the verified,\n",
    "#in Brazil (https://en.wikipedia.org/wiki/List_of_the_verified_oldest_people) there's no way such a person with this age at 2016"
   ]
  },
  {
   "cell_type": "markdown",
   "metadata": {},
   "source": [
    "<a id='wrangling'></a>\n",
    "Columns variable logic seems to be fine and finding that Handcap has range of 5 levels but,there's a problem and an obvious one in minumum age also there's one in the maximum age after checking List of the verified,\n",
    "in Brazil (https://en.wikipedia.org/wiki/List_of_the_verified_oldest_people) there's no way such a person with this age at 2016"
   ]
  },
  {
   "cell_type": "code",
   "execution_count": 7,
   "metadata": {},
   "outputs": [
    {
     "data": {
      "text/plain": [
       "AppointmentID     0\n",
       "Gender            0\n",
       "ScheduledDay      0\n",
       "AppointmentDay    0\n",
       "Age               0\n",
       "Neighbourhood     0\n",
       "Scholarship       0\n",
       "Hipertension      0\n",
       "Diabetes          0\n",
       "Alcoholism        0\n",
       "Handcap           0\n",
       "SMS_received      0\n",
       "No-show           0\n",
       "dtype: int64"
      ]
     },
     "execution_count": 7,
     "metadata": {},
     "output_type": "execute_result"
    }
   ],
   "source": [
    "df.isnull().sum() #Checking for missing values"
   ]
  },
  {
   "cell_type": "markdown",
   "metadata": {},
   "source": [
    "<a id='wrangling'></a>\n",
    "there's no missing values"
   ]
  },
  {
   "cell_type": "code",
   "execution_count": 8,
   "metadata": {},
   "outputs": [
    {
     "name": "stdout",
     "output_type": "stream",
     "text": [
      "<class 'pandas.core.frame.DataFrame'>\n",
      "Float64Index: 110527 entries, 29872499824296.0 to 377511518121127.0\n",
      "Data columns (total 13 columns):\n",
      " #   Column          Non-Null Count   Dtype \n",
      "---  ------          --------------   ----- \n",
      " 0   AppointmentID   110527 non-null  int64 \n",
      " 1   Gender          110527 non-null  object\n",
      " 2   ScheduledDay    110527 non-null  object\n",
      " 3   AppointmentDay  110527 non-null  object\n",
      " 4   Age             110527 non-null  int64 \n",
      " 5   Neighbourhood   110527 non-null  object\n",
      " 6   Scholarship     110527 non-null  int64 \n",
      " 7   Hipertension    110527 non-null  int64 \n",
      " 8   Diabetes        110527 non-null  int64 \n",
      " 9   Alcoholism      110527 non-null  int64 \n",
      " 10  Handcap         110527 non-null  int64 \n",
      " 11  SMS_received    110527 non-null  int64 \n",
      " 12  No-show         110527 non-null  object\n",
      "dtypes: int64(8), object(5)\n",
      "memory usage: 11.8+ MB\n"
     ]
    }
   ],
   "source": [
    "df.info() #Checking for our data-type in our columns and if it well matches "
   ]
  },
  {
   "cell_type": "code",
   "execution_count": 9,
   "metadata": {},
   "outputs": [
    {
     "data": {
      "text/html": [
       "<div>\n",
       "<style scoped>\n",
       "    .dataframe tbody tr th:only-of-type {\n",
       "        vertical-align: middle;\n",
       "    }\n",
       "\n",
       "    .dataframe tbody tr th {\n",
       "        vertical-align: top;\n",
       "    }\n",
       "\n",
       "    .dataframe thead th {\n",
       "        text-align: right;\n",
       "    }\n",
       "</style>\n",
       "<table border=\"1\" class=\"dataframe\">\n",
       "  <thead>\n",
       "    <tr style=\"text-align: right;\">\n",
       "      <th></th>\n",
       "      <th>AppointmentID</th>\n",
       "      <th>Gender</th>\n",
       "      <th>ScheduledDay</th>\n",
       "      <th>AppointmentDay</th>\n",
       "      <th>Age</th>\n",
       "      <th>Neighbourhood</th>\n",
       "      <th>Scholarship</th>\n",
       "      <th>Hipertension</th>\n",
       "      <th>Diabetes</th>\n",
       "      <th>Alcoholism</th>\n",
       "      <th>Handcap</th>\n",
       "      <th>SMS_received</th>\n",
       "      <th>No-show</th>\n",
       "    </tr>\n",
       "    <tr>\n",
       "      <th>PatientId</th>\n",
       "      <th></th>\n",
       "      <th></th>\n",
       "      <th></th>\n",
       "      <th></th>\n",
       "      <th></th>\n",
       "      <th></th>\n",
       "      <th></th>\n",
       "      <th></th>\n",
       "      <th></th>\n",
       "      <th></th>\n",
       "      <th></th>\n",
       "      <th></th>\n",
       "      <th></th>\n",
       "    </tr>\n",
       "  </thead>\n",
       "  <tbody>\n",
       "  </tbody>\n",
       "</table>\n",
       "</div>"
      ],
      "text/plain": [
       "Empty DataFrame\n",
       "Columns: [AppointmentID, Gender, ScheduledDay, AppointmentDay, Age, Neighbourhood, Scholarship, Hipertension, Diabetes, Alcoholism, Handcap, SMS_received, No-show]\n",
       "Index: []"
      ]
     },
     "execution_count": 9,
     "metadata": {},
     "output_type": "execute_result"
    }
   ],
   "source": [
    "check = pd.DataFrame(df,columns=df.columns)\n",
    "duplicate = check[check.duplicated(keep='last')]\n",
    "duplicate"
   ]
  },
  {
   "cell_type": "markdown",
   "metadata": {},
   "source": [
    "<a id='wrangling'></a>\n",
    "there's no duplicated rows"
   ]
  },
  {
   "cell_type": "code",
   "execution_count": 10,
   "metadata": {},
   "outputs": [
    {
     "data": {
      "text/plain": [
       "(110527, 13)"
      ]
     },
     "execution_count": 10,
     "metadata": {},
     "output_type": "execute_result"
    }
   ],
   "source": [
    "df.shape #shape reference"
   ]
  },
  {
   "cell_type": "code",
   "execution_count": 11,
   "metadata": {},
   "outputs": [
    {
     "name": "stdout",
     "output_type": "stream",
     "text": [
      "max_age: 102\n",
      "min_age: 0\n",
      "min_age: 1\n"
     ]
    },
    {
     "data": {
      "text/plain": [
       "(106900, 13)"
      ]
     },
     "execution_count": 11,
     "metadata": {},
     "output_type": "execute_result"
    }
   ],
   "source": [
    "# firstly,we will deall with age\n",
    "droping_max= df.index[df['Age'] == 115].tolist()\n",
    "dropin_min = df.index[df['Age'] == -1].tolist()\n",
    "droping = droping_max + dropin_min\n",
    "df.drop(droping, axis=0,inplace = True)\n",
    "# now, we are going to check for max and min age\n",
    "print('max_age: ' + str(df['Age'].max()))\n",
    "print('min_age: ' + str(df['Age'].min()))\n",
    "# max_age seems fine but min_age still is not logical\n",
    "droping = df.index[df['Age'] == 0].tolist()\n",
    "df.drop(droping, axis=0,inplace = True)\n",
    "# now, we are going to check for min age\n",
    "print('min_age: ' + str(df['Age'].min()))\n",
    "#seems to be fine now\n",
    "df.shape"
   ]
  },
  {
   "cell_type": "markdown",
   "metadata": {},
   "source": [
    "we dropped ages that doesn't make sense 115 for max and (-1,0) for min"
   ]
  },
  {
   "cell_type": "code",
   "execution_count": 12,
   "metadata": {},
   "outputs": [
    {
     "data": {
      "text/plain": [
       "0    85235\n",
       "1    21665\n",
       "Name: No-show, dtype: int64"
      ]
     },
     "execution_count": 12,
     "metadata": {},
     "output_type": "execute_result"
    }
   ],
   "source": [
    "#change type of No-show to be able to plot it\n",
    "df = df.replace(to_replace = ['Yes','No'],value = ['1','0'])\n",
    "df['No-show'] = df['No-show'].astype(int)\n",
    "df['No-show'].value_counts()"
   ]
  },
  {
   "cell_type": "code",
   "execution_count": 13,
   "metadata": {},
   "outputs": [
    {
     "data": {
      "text/html": [
       "<div>\n",
       "<style scoped>\n",
       "    .dataframe tbody tr th:only-of-type {\n",
       "        vertical-align: middle;\n",
       "    }\n",
       "\n",
       "    .dataframe tbody tr th {\n",
       "        vertical-align: top;\n",
       "    }\n",
       "\n",
       "    .dataframe thead th {\n",
       "        text-align: right;\n",
       "    }\n",
       "</style>\n",
       "<table border=\"1\" class=\"dataframe\">\n",
       "  <thead>\n",
       "    <tr style=\"text-align: right;\">\n",
       "      <th></th>\n",
       "      <th>AppointmentID</th>\n",
       "      <th>Gender</th>\n",
       "      <th>ScheduledDay</th>\n",
       "      <th>AppointmentDay</th>\n",
       "      <th>Age</th>\n",
       "      <th>Neighbourhood</th>\n",
       "      <th>Scholarship</th>\n",
       "      <th>Hipertension</th>\n",
       "      <th>Diabetes</th>\n",
       "      <th>Alcoholism</th>\n",
       "      <th>Handcap</th>\n",
       "      <th>SMS_received</th>\n",
       "      <th>No-show</th>\n",
       "      <th>Waitng_Days</th>\n",
       "    </tr>\n",
       "    <tr>\n",
       "      <th>PatientId</th>\n",
       "      <th></th>\n",
       "      <th></th>\n",
       "      <th></th>\n",
       "      <th></th>\n",
       "      <th></th>\n",
       "      <th></th>\n",
       "      <th></th>\n",
       "      <th></th>\n",
       "      <th></th>\n",
       "      <th></th>\n",
       "      <th></th>\n",
       "      <th></th>\n",
       "      <th></th>\n",
       "      <th></th>\n",
       "    </tr>\n",
       "  </thead>\n",
       "  <tbody>\n",
       "    <tr>\n",
       "      <th>7.839273e+12</th>\n",
       "      <td>5679978</td>\n",
       "      <td>M</td>\n",
       "      <td>2016-05-10 10:51:53+00:00</td>\n",
       "      <td>2016-05-09 00:00:00+00:00</td>\n",
       "      <td>38</td>\n",
       "      <td>RESISTÊNCIA</td>\n",
       "      <td>0</td>\n",
       "      <td>0</td>\n",
       "      <td>0</td>\n",
       "      <td>0</td>\n",
       "      <td>1</td>\n",
       "      <td>0</td>\n",
       "      <td>1</td>\n",
       "      <td>-1</td>\n",
       "    </tr>\n",
       "    <tr>\n",
       "      <th>7.896294e+12</th>\n",
       "      <td>5715660</td>\n",
       "      <td>F</td>\n",
       "      <td>2016-05-18 14:50:41+00:00</td>\n",
       "      <td>2016-05-17 00:00:00+00:00</td>\n",
       "      <td>19</td>\n",
       "      <td>SANTO ANTÔNIO</td>\n",
       "      <td>0</td>\n",
       "      <td>0</td>\n",
       "      <td>0</td>\n",
       "      <td>0</td>\n",
       "      <td>1</td>\n",
       "      <td>0</td>\n",
       "      <td>1</td>\n",
       "      <td>-1</td>\n",
       "    </tr>\n",
       "    <tr>\n",
       "      <th>2.425226e+13</th>\n",
       "      <td>5664962</td>\n",
       "      <td>F</td>\n",
       "      <td>2016-05-05 13:43:58+00:00</td>\n",
       "      <td>2016-05-04 00:00:00+00:00</td>\n",
       "      <td>22</td>\n",
       "      <td>CONSOLAÇÃO</td>\n",
       "      <td>0</td>\n",
       "      <td>0</td>\n",
       "      <td>0</td>\n",
       "      <td>0</td>\n",
       "      <td>0</td>\n",
       "      <td>0</td>\n",
       "      <td>1</td>\n",
       "      <td>-1</td>\n",
       "    </tr>\n",
       "    <tr>\n",
       "      <th>9.982316e+14</th>\n",
       "      <td>5686628</td>\n",
       "      <td>F</td>\n",
       "      <td>2016-05-11 13:49:20+00:00</td>\n",
       "      <td>2016-05-05 00:00:00+00:00</td>\n",
       "      <td>81</td>\n",
       "      <td>SANTO ANTÔNIO</td>\n",
       "      <td>0</td>\n",
       "      <td>0</td>\n",
       "      <td>0</td>\n",
       "      <td>0</td>\n",
       "      <td>0</td>\n",
       "      <td>0</td>\n",
       "      <td>1</td>\n",
       "      <td>-6</td>\n",
       "    </tr>\n",
       "    <tr>\n",
       "      <th>3.787482e+12</th>\n",
       "      <td>5655637</td>\n",
       "      <td>M</td>\n",
       "      <td>2016-05-04 06:50:57+00:00</td>\n",
       "      <td>2016-05-03 00:00:00+00:00</td>\n",
       "      <td>7</td>\n",
       "      <td>TABUAZEIRO</td>\n",
       "      <td>0</td>\n",
       "      <td>0</td>\n",
       "      <td>0</td>\n",
       "      <td>0</td>\n",
       "      <td>0</td>\n",
       "      <td>0</td>\n",
       "      <td>1</td>\n",
       "      <td>-1</td>\n",
       "    </tr>\n",
       "  </tbody>\n",
       "</table>\n",
       "</div>"
      ],
      "text/plain": [
       "              AppointmentID Gender              ScheduledDay  \\\n",
       "PatientId                                                      \n",
       "7.839273e+12        5679978      M 2016-05-10 10:51:53+00:00   \n",
       "7.896294e+12        5715660      F 2016-05-18 14:50:41+00:00   \n",
       "2.425226e+13        5664962      F 2016-05-05 13:43:58+00:00   \n",
       "9.982316e+14        5686628      F 2016-05-11 13:49:20+00:00   \n",
       "3.787482e+12        5655637      M 2016-05-04 06:50:57+00:00   \n",
       "\n",
       "                        AppointmentDay  Age  Neighbourhood  Scholarship  \\\n",
       "PatientId                                                                 \n",
       "7.839273e+12 2016-05-09 00:00:00+00:00   38    RESISTÊNCIA            0   \n",
       "7.896294e+12 2016-05-17 00:00:00+00:00   19  SANTO ANTÔNIO            0   \n",
       "2.425226e+13 2016-05-04 00:00:00+00:00   22     CONSOLAÇÃO            0   \n",
       "9.982316e+14 2016-05-05 00:00:00+00:00   81  SANTO ANTÔNIO            0   \n",
       "3.787482e+12 2016-05-03 00:00:00+00:00    7     TABUAZEIRO            0   \n",
       "\n",
       "              Hipertension  Diabetes  Alcoholism  Handcap  SMS_received  \\\n",
       "PatientId                                                                 \n",
       "7.839273e+12             0         0           0        1             0   \n",
       "7.896294e+12             0         0           0        1             0   \n",
       "2.425226e+13             0         0           0        0             0   \n",
       "9.982316e+14             0         0           0        0             0   \n",
       "3.787482e+12             0         0           0        0             0   \n",
       "\n",
       "              No-show  Waitng_Days  \n",
       "PatientId                           \n",
       "7.839273e+12        1           -1  \n",
       "7.896294e+12        1           -1  \n",
       "2.425226e+13        1           -1  \n",
       "9.982316e+14        1           -6  \n",
       "3.787482e+12        1           -1  "
      ]
     },
     "execution_count": 13,
     "metadata": {},
     "output_type": "execute_result"
    }
   ],
   "source": [
    "df['ScheduledDay'] = pd.to_datetime(df['ScheduledDay'])\n",
    "df['AppointmentDay'] = pd.to_datetime(df['AppointmentDay']) \n",
    "#Trying to get columns of waiting days\n",
    "df['Waitng_Days'] = (df['ScheduledDay'] - df['AppointmentDay'])*-1\n",
    "df['Waitng_Days'] = df['Waitng_Days'].dt.days+1\n",
    "df[df.Waitng_Days < 0 ]"
   ]
  },
  {
   "cell_type": "markdown",
   "metadata": {},
   "source": [
    "there's waiting days with negative numbers we need to drop it"
   ]
  },
  {
   "cell_type": "code",
   "execution_count": 14,
   "metadata": {},
   "outputs": [],
   "source": [
    "df = df[df.Waitng_Days >= 0 ]"
   ]
  },
  {
   "cell_type": "code",
   "execution_count": 15,
   "metadata": {},
   "outputs": [
    {
     "data": {
      "text/html": [
       "<div>\n",
       "<style scoped>\n",
       "    .dataframe tbody tr th:only-of-type {\n",
       "        vertical-align: middle;\n",
       "    }\n",
       "\n",
       "    .dataframe tbody tr th {\n",
       "        vertical-align: top;\n",
       "    }\n",
       "\n",
       "    .dataframe thead th {\n",
       "        text-align: right;\n",
       "    }\n",
       "</style>\n",
       "<table border=\"1\" class=\"dataframe\">\n",
       "  <thead>\n",
       "    <tr style=\"text-align: right;\">\n",
       "      <th></th>\n",
       "      <th>Gender</th>\n",
       "      <th>Age</th>\n",
       "      <th>Neighbourhood</th>\n",
       "      <th>Scholarship</th>\n",
       "      <th>Hipertension</th>\n",
       "      <th>Diabetes</th>\n",
       "      <th>Alcoholism</th>\n",
       "      <th>Handcap</th>\n",
       "      <th>SMS_received</th>\n",
       "      <th>No-show</th>\n",
       "      <th>Waitng_Days</th>\n",
       "    </tr>\n",
       "    <tr>\n",
       "      <th>PatientId</th>\n",
       "      <th></th>\n",
       "      <th></th>\n",
       "      <th></th>\n",
       "      <th></th>\n",
       "      <th></th>\n",
       "      <th></th>\n",
       "      <th></th>\n",
       "      <th></th>\n",
       "      <th></th>\n",
       "      <th></th>\n",
       "      <th></th>\n",
       "    </tr>\n",
       "  </thead>\n",
       "  <tbody>\n",
       "    <tr>\n",
       "      <th>2.987250e+13</th>\n",
       "      <td>F</td>\n",
       "      <td>62</td>\n",
       "      <td>JARDIM DA PENHA</td>\n",
       "      <td>0</td>\n",
       "      <td>1</td>\n",
       "      <td>0</td>\n",
       "      <td>0</td>\n",
       "      <td>0</td>\n",
       "      <td>0</td>\n",
       "      <td>0</td>\n",
       "      <td>0</td>\n",
       "    </tr>\n",
       "  </tbody>\n",
       "</table>\n",
       "</div>"
      ],
      "text/plain": [
       "             Gender  Age    Neighbourhood  Scholarship  Hipertension  \\\n",
       "PatientId                                                              \n",
       "2.987250e+13      F   62  JARDIM DA PENHA            0             1   \n",
       "\n",
       "              Diabetes  Alcoholism  Handcap  SMS_received  No-show  \\\n",
       "PatientId                                                            \n",
       "2.987250e+13         0           0        0             0        0   \n",
       "\n",
       "              Waitng_Days  \n",
       "PatientId                  \n",
       "2.987250e+13            0  "
      ]
     },
     "execution_count": 15,
     "metadata": {},
     "output_type": "execute_result"
    }
   ],
   "source": [
    "#dropping un-wanted columns for analysis\n",
    "Columns = ['AppointmentID','ScheduledDay','AppointmentDay']\n",
    "df.drop(Columns, axis=1,inplace = True)\n",
    "df.head(1)   "
   ]
  },
  {
   "cell_type": "code",
   "execution_count": 27,
   "metadata": {},
   "outputs": [
    {
     "data": {
      "text/plain": [
       "0    85235\n",
       "1    21660\n",
       "Name: No-show, dtype: int64"
      ]
     },
     "execution_count": 27,
     "metadata": {},
     "output_type": "execute_result"
    }
   ],
   "source": [
    "df.shape"
   ]
  },
  {
   "cell_type": "markdown",
   "metadata": {},
   "source": [
    "<a id='eda'></a>\n",
    "## Exploratory Data Analysis\n",
    "\n",
    "> **Tip**: Now that you've trimmed and cleaned your data, you're ready to move on to exploration. Compute statistics and create visualizations with the goal of addressing the research questions that you posed in the Introduction section. It is recommended that you be systematic with your approach. Look at one variable at a time, and then follow it up by looking at relationships between variables.\n",
    "\n",
    "### Q.1 : Is there direct relation between features?"
   ]
  },
  {
   "cell_type": "code",
   "execution_count": 17,
   "metadata": {},
   "outputs": [
    {
     "data": {
      "text/html": [
       "<style  type=\"text/css\" >\n",
       "#T_1b88d_row0_col0,#T_1b88d_row1_col1,#T_1b88d_row2_col2,#T_1b88d_row3_col3,#T_1b88d_row4_col4,#T_1b88d_row5_col5,#T_1b88d_row6_col6,#T_1b88d_row7_col7,#T_1b88d_row8_col8{\n",
       "            background-color:  #b40426;\n",
       "            color:  #f1f1f1;\n",
       "        }#T_1b88d_row0_col1,#T_1b88d_row0_col7,#T_1b88d_row1_col0,#T_1b88d_row1_col3,#T_1b88d_row4_col6,#T_1b88d_row4_col8,#T_1b88d_row5_col6,#T_1b88d_row6_col5,#T_1b88d_row7_col2,#T_1b88d_row8_col3,#T_1b88d_row8_col4{\n",
       "            background-color:  #3b4cc0;\n",
       "            color:  #f1f1f1;\n",
       "        }#T_1b88d_row0_col2{\n",
       "            background-color:  #e2dad5;\n",
       "            color:  #000000;\n",
       "        }#T_1b88d_row0_col3{\n",
       "            background-color:  #a2c1ff;\n",
       "            color:  #000000;\n",
       "        }#T_1b88d_row0_col4{\n",
       "            background-color:  #6180e9;\n",
       "            color:  #000000;\n",
       "        }#T_1b88d_row0_col5{\n",
       "            background-color:  #5875e1;\n",
       "            color:  #000000;\n",
       "        }#T_1b88d_row0_col6{\n",
       "            background-color:  #445acc;\n",
       "            color:  #f1f1f1;\n",
       "        }#T_1b88d_row0_col8,#T_1b88d_row3_col1,#T_1b88d_row8_col1{\n",
       "            background-color:  #516ddb;\n",
       "            color:  #000000;\n",
       "        }#T_1b88d_row1_col2,#T_1b88d_row1_col5{\n",
       "            background-color:  #3e51c5;\n",
       "            color:  #f1f1f1;\n",
       "        }#T_1b88d_row1_col4{\n",
       "            background-color:  #4f69d9;\n",
       "            color:  #000000;\n",
       "        }#T_1b88d_row1_col6,#T_1b88d_row6_col2{\n",
       "            background-color:  #4257c9;\n",
       "            color:  #f1f1f1;\n",
       "        }#T_1b88d_row1_col7,#T_1b88d_row5_col1{\n",
       "            background-color:  #5673e0;\n",
       "            color:  #000000;\n",
       "        }#T_1b88d_row1_col8,#T_1b88d_row3_col6,#T_1b88d_row3_col8,#T_1b88d_row6_col3,#T_1b88d_row6_col4,#T_1b88d_row7_col3{\n",
       "            background-color:  #3d50c3;\n",
       "            color:  #f1f1f1;\n",
       "        }#T_1b88d_row2_col0{\n",
       "            background-color:  #ead5c9;\n",
       "            color:  #000000;\n",
       "        }#T_1b88d_row2_col1,#T_1b88d_row3_col5,#T_1b88d_row5_col3{\n",
       "            background-color:  #536edd;\n",
       "            color:  #000000;\n",
       "        }#T_1b88d_row2_col3{\n",
       "            background-color:  #cedaeb;\n",
       "            color:  #000000;\n",
       "        }#T_1b88d_row2_col4,#T_1b88d_row4_col2{\n",
       "            background-color:  #5f7fe8;\n",
       "            color:  #000000;\n",
       "        }#T_1b88d_row2_col5{\n",
       "            background-color:  #5977e3;\n",
       "            color:  #000000;\n",
       "        }#T_1b88d_row2_col6,#T_1b88d_row5_col8,#T_1b88d_row7_col5,#T_1b88d_row8_col2{\n",
       "            background-color:  #3f53c6;\n",
       "            color:  #f1f1f1;\n",
       "        }#T_1b88d_row2_col7,#T_1b88d_row4_col5{\n",
       "            background-color:  #4358cb;\n",
       "            color:  #f1f1f1;\n",
       "        }#T_1b88d_row2_col8{\n",
       "            background-color:  #4055c8;\n",
       "            color:  #f1f1f1;\n",
       "        }#T_1b88d_row3_col0{\n",
       "            background-color:  #b3cdfb;\n",
       "            color:  #000000;\n",
       "        }#T_1b88d_row3_col2{\n",
       "            background-color:  #cfdaea;\n",
       "            color:  #000000;\n",
       "        }#T_1b88d_row3_col4{\n",
       "            background-color:  #4a63d3;\n",
       "            color:  #f1f1f1;\n",
       "        }#T_1b88d_row3_col7{\n",
       "            background-color:  #4961d2;\n",
       "            color:  #f1f1f1;\n",
       "        }#T_1b88d_row4_col0,#T_1b88d_row6_col7{\n",
       "            background-color:  #7597f6;\n",
       "            color:  #000000;\n",
       "        }#T_1b88d_row4_col1{\n",
       "            background-color:  #6384eb;\n",
       "            color:  #000000;\n",
       "        }#T_1b88d_row4_col3{\n",
       "            background-color:  #485fd1;\n",
       "            color:  #f1f1f1;\n",
       "        }#T_1b88d_row4_col7{\n",
       "            background-color:  #4e68d8;\n",
       "            color:  #000000;\n",
       "        }#T_1b88d_row5_col0{\n",
       "            background-color:  #6f92f3;\n",
       "            color:  #000000;\n",
       "        }#T_1b88d_row5_col2{\n",
       "            background-color:  #5d7ce6;\n",
       "            color:  #000000;\n",
       "        }#T_1b88d_row5_col4,#T_1b88d_row7_col0{\n",
       "            background-color:  #465ecf;\n",
       "            color:  #f1f1f1;\n",
       "        }#T_1b88d_row5_col7{\n",
       "            background-color:  #4b64d5;\n",
       "            color:  #f1f1f1;\n",
       "        }#T_1b88d_row6_col0{\n",
       "            background-color:  #5b7ae5;\n",
       "            color:  #000000;\n",
       "        }#T_1b88d_row6_col1{\n",
       "            background-color:  #5a78e4;\n",
       "            color:  #000000;\n",
       "        }#T_1b88d_row6_col8{\n",
       "            background-color:  #c6d6f1;\n",
       "            color:  #000000;\n",
       "        }#T_1b88d_row7_col1{\n",
       "            background-color:  #6282ea;\n",
       "            color:  #000000;\n",
       "        }#T_1b88d_row7_col4{\n",
       "            background-color:  #455cce;\n",
       "            color:  #f1f1f1;\n",
       "        }#T_1b88d_row7_col6{\n",
       "            background-color:  #6a8bef;\n",
       "            color:  #000000;\n",
       "        }#T_1b88d_row7_col8{\n",
       "            background-color:  #81a4fb;\n",
       "            color:  #000000;\n",
       "        }#T_1b88d_row8_col0{\n",
       "            background-color:  #6485ec;\n",
       "            color:  #000000;\n",
       "        }#T_1b88d_row8_col5{\n",
       "            background-color:  #3c4ec2;\n",
       "            color:  #f1f1f1;\n",
       "        }#T_1b88d_row8_col6{\n",
       "            background-color:  #c4d5f3;\n",
       "            color:  #000000;\n",
       "        }#T_1b88d_row8_col7{\n",
       "            background-color:  #88abfd;\n",
       "            color:  #000000;\n",
       "        }</style><table id=\"T_1b88d_\" ><thead>    <tr>        <th class=\"blank level0\" ></th>        <th class=\"col_heading level0 col0\" >Age</th>        <th class=\"col_heading level0 col1\" >Scholarship</th>        <th class=\"col_heading level0 col2\" >Hipertension</th>        <th class=\"col_heading level0 col3\" >Diabetes</th>        <th class=\"col_heading level0 col4\" >Alcoholism</th>        <th class=\"col_heading level0 col5\" >Handcap</th>        <th class=\"col_heading level0 col6\" >SMS_received</th>        <th class=\"col_heading level0 col7\" >No-show</th>        <th class=\"col_heading level0 col8\" >Waitng_Days</th>    </tr></thead><tbody>\n",
       "                <tr>\n",
       "                        <th id=\"T_1b88d_level0_row0\" class=\"row_heading level0 row0\" >Age</th>\n",
       "                        <td id=\"T_1b88d_row0_col0\" class=\"data row0 col0\" >1.000000</td>\n",
       "                        <td id=\"T_1b88d_row0_col1\" class=\"data row0 col1\" >-0.113236</td>\n",
       "                        <td id=\"T_1b88d_row0_col2\" class=\"data row0 col2\" >0.502191</td>\n",
       "                        <td id=\"T_1b88d_row0_col3\" class=\"data row0 col3\" >0.290719</td>\n",
       "                        <td id=\"T_1b88d_row0_col4\" class=\"data row0 col4\" >0.090313</td>\n",
       "                        <td id=\"T_1b88d_row0_col5\" class=\"data row0 col5\" >0.073362</td>\n",
       "                        <td id=\"T_1b88d_row0_col6\" class=\"data row0 col6\" >0.005079</td>\n",
       "                        <td id=\"T_1b88d_row0_col7\" class=\"data row0 col7\" >-0.067463</td>\n",
       "                        <td id=\"T_1b88d_row0_col8\" class=\"data row0 col8\" >0.038939</td>\n",
       "            </tr>\n",
       "            <tr>\n",
       "                        <th id=\"T_1b88d_level0_row1\" class=\"row_heading level0 row1\" >Scholarship</th>\n",
       "                        <td id=\"T_1b88d_row1_col0\" class=\"data row1 col0\" >-0.113236</td>\n",
       "                        <td id=\"T_1b88d_row1_col1\" class=\"data row1 col1\" >1.000000</td>\n",
       "                        <td id=\"T_1b88d_row1_col2\" class=\"data row1 col2\" >-0.024672</td>\n",
       "                        <td id=\"T_1b88d_row1_col3\" class=\"data row1 col3\" >-0.027706</td>\n",
       "                        <td id=\"T_1b88d_row1_col4\" class=\"data row1 col4\" >0.033477</td>\n",
       "                        <td id=\"T_1b88d_row1_col5\" class=\"data row1 col5\" >-0.009826</td>\n",
       "                        <td id=\"T_1b88d_row1_col6\" class=\"data row1 col6\" >-0.000069</td>\n",
       "                        <td id=\"T_1b88d_row1_col7\" class=\"data row1 col7\" >0.029395</td>\n",
       "                        <td id=\"T_1b88d_row1_col8\" class=\"data row1 col8\" >-0.030465</td>\n",
       "            </tr>\n",
       "            <tr>\n",
       "                        <th id=\"T_1b88d_level0_row2\" class=\"row_heading level0 row2\" >Hipertension</th>\n",
       "                        <td id=\"T_1b88d_row2_col0\" class=\"data row2 col0\" >0.502191</td>\n",
       "                        <td id=\"T_1b88d_row2_col1\" class=\"data row2 col1\" >-0.024672</td>\n",
       "                        <td id=\"T_1b88d_row2_col2\" class=\"data row2 col2\" >1.000000</td>\n",
       "                        <td id=\"T_1b88d_row2_col3\" class=\"data row2 col3\" >0.430780</td>\n",
       "                        <td id=\"T_1b88d_row2_col4\" class=\"data row2 col4\" >0.085397</td>\n",
       "                        <td id=\"T_1b88d_row2_col5\" class=\"data row2 col5\" >0.078413</td>\n",
       "                        <td id=\"T_1b88d_row2_col6\" class=\"data row2 col6\" >-0.008931</td>\n",
       "                        <td id=\"T_1b88d_row2_col7\" class=\"data row2 col7\" >-0.037274</td>\n",
       "                        <td id=\"T_1b88d_row2_col8\" class=\"data row2 col8\" >-0.017029</td>\n",
       "            </tr>\n",
       "            <tr>\n",
       "                        <th id=\"T_1b88d_level0_row3\" class=\"row_heading level0 row3\" >Diabetes</th>\n",
       "                        <td id=\"T_1b88d_row3_col0\" class=\"data row3 col0\" >0.290719</td>\n",
       "                        <td id=\"T_1b88d_row3_col1\" class=\"data row3 col1\" >-0.027706</td>\n",
       "                        <td id=\"T_1b88d_row3_col2\" class=\"data row3 col2\" >0.430780</td>\n",
       "                        <td id=\"T_1b88d_row3_col3\" class=\"data row3 col3\" >1.000000</td>\n",
       "                        <td id=\"T_1b88d_row3_col4\" class=\"data row3 col4\" >0.016831</td>\n",
       "                        <td id=\"T_1b88d_row3_col5\" class=\"data row3 col5\" >0.056499</td>\n",
       "                        <td id=\"T_1b88d_row3_col6\" class=\"data row3 col6\" >-0.016192</td>\n",
       "                        <td id=\"T_1b88d_row3_col7\" class=\"data row3 col7\" >-0.015927</td>\n",
       "                        <td id=\"T_1b88d_row3_col8\" class=\"data row3 col8\" >-0.027362</td>\n",
       "            </tr>\n",
       "            <tr>\n",
       "                        <th id=\"T_1b88d_level0_row4\" class=\"row_heading level0 row4\" >Alcoholism</th>\n",
       "                        <td id=\"T_1b88d_row4_col0\" class=\"data row4 col0\" >0.090313</td>\n",
       "                        <td id=\"T_1b88d_row4_col1\" class=\"data row4 col1\" >0.033477</td>\n",
       "                        <td id=\"T_1b88d_row4_col2\" class=\"data row4 col2\" >0.085397</td>\n",
       "                        <td id=\"T_1b88d_row4_col3\" class=\"data row4 col3\" >0.016831</td>\n",
       "                        <td id=\"T_1b88d_row4_col4\" class=\"data row4 col4\" >1.000000</td>\n",
       "                        <td id=\"T_1b88d_row4_col5\" class=\"data row4 col5\" >0.003899</td>\n",
       "                        <td id=\"T_1b88d_row4_col6\" class=\"data row4 col6\" >-0.027445</td>\n",
       "                        <td id=\"T_1b88d_row4_col7\" class=\"data row4 col7\" >-0.000511</td>\n",
       "                        <td id=\"T_1b88d_row4_col8\" class=\"data row4 col8\" >-0.038974</td>\n",
       "            </tr>\n",
       "            <tr>\n",
       "                        <th id=\"T_1b88d_level0_row5\" class=\"row_heading level0 row5\" >Handcap</th>\n",
       "                        <td id=\"T_1b88d_row5_col0\" class=\"data row5 col0\" >0.073362</td>\n",
       "                        <td id=\"T_1b88d_row5_col1\" class=\"data row5 col1\" >-0.009826</td>\n",
       "                        <td id=\"T_1b88d_row5_col2\" class=\"data row5 col2\" >0.078413</td>\n",
       "                        <td id=\"T_1b88d_row5_col3\" class=\"data row5 col3\" >0.056499</td>\n",
       "                        <td id=\"T_1b88d_row5_col4\" class=\"data row5 col4\" >0.003899</td>\n",
       "                        <td id=\"T_1b88d_row5_col5\" class=\"data row5 col5\" >1.000000</td>\n",
       "                        <td id=\"T_1b88d_row5_col6\" class=\"data row5 col6\" >-0.024978</td>\n",
       "                        <td id=\"T_1b88d_row5_col7\" class=\"data row5 col7\" >-0.006931</td>\n",
       "                        <td id=\"T_1b88d_row5_col8\" class=\"data row5 col8\" >-0.019936</td>\n",
       "            </tr>\n",
       "            <tr>\n",
       "                        <th id=\"T_1b88d_level0_row6\" class=\"row_heading level0 row6\" >SMS_received</th>\n",
       "                        <td id=\"T_1b88d_row6_col0\" class=\"data row6 col0\" >0.005079</td>\n",
       "                        <td id=\"T_1b88d_row6_col1\" class=\"data row6 col1\" >-0.000069</td>\n",
       "                        <td id=\"T_1b88d_row6_col2\" class=\"data row6 col2\" >-0.008931</td>\n",
       "                        <td id=\"T_1b88d_row6_col3\" class=\"data row6 col3\" >-0.016192</td>\n",
       "                        <td id=\"T_1b88d_row6_col4\" class=\"data row6 col4\" >-0.027445</td>\n",
       "                        <td id=\"T_1b88d_row6_col5\" class=\"data row6 col5\" >-0.024978</td>\n",
       "                        <td id=\"T_1b88d_row6_col6\" class=\"data row6 col6\" >1.000000</td>\n",
       "                        <td id=\"T_1b88d_row6_col7\" class=\"data row6 col7\" >0.127392</td>\n",
       "                        <td id=\"T_1b88d_row6_col8\" class=\"data row6 col8\" >0.396298</td>\n",
       "            </tr>\n",
       "            <tr>\n",
       "                        <th id=\"T_1b88d_level0_row7\" class=\"row_heading level0 row7\" >No-show</th>\n",
       "                        <td id=\"T_1b88d_row7_col0\" class=\"data row7 col0\" >-0.067463</td>\n",
       "                        <td id=\"T_1b88d_row7_col1\" class=\"data row7 col1\" >0.029395</td>\n",
       "                        <td id=\"T_1b88d_row7_col2\" class=\"data row7 col2\" >-0.037274</td>\n",
       "                        <td id=\"T_1b88d_row7_col3\" class=\"data row7 col3\" >-0.015927</td>\n",
       "                        <td id=\"T_1b88d_row7_col4\" class=\"data row7 col4\" >-0.000511</td>\n",
       "                        <td id=\"T_1b88d_row7_col5\" class=\"data row7 col5\" >-0.006931</td>\n",
       "                        <td id=\"T_1b88d_row7_col6\" class=\"data row7 col6\" >0.127392</td>\n",
       "                        <td id=\"T_1b88d_row7_col7\" class=\"data row7 col7\" >1.000000</td>\n",
       "                        <td id=\"T_1b88d_row7_col8\" class=\"data row7 col8\" >0.185726</td>\n",
       "            </tr>\n",
       "            <tr>\n",
       "                        <th id=\"T_1b88d_level0_row8\" class=\"row_heading level0 row8\" >Waitng_Days</th>\n",
       "                        <td id=\"T_1b88d_row8_col0\" class=\"data row8 col0\" >0.038939</td>\n",
       "                        <td id=\"T_1b88d_row8_col1\" class=\"data row8 col1\" >-0.030465</td>\n",
       "                        <td id=\"T_1b88d_row8_col2\" class=\"data row8 col2\" >-0.017029</td>\n",
       "                        <td id=\"T_1b88d_row8_col3\" class=\"data row8 col3\" >-0.027362</td>\n",
       "                        <td id=\"T_1b88d_row8_col4\" class=\"data row8 col4\" >-0.038974</td>\n",
       "                        <td id=\"T_1b88d_row8_col5\" class=\"data row8 col5\" >-0.019936</td>\n",
       "                        <td id=\"T_1b88d_row8_col6\" class=\"data row8 col6\" >0.396298</td>\n",
       "                        <td id=\"T_1b88d_row8_col7\" class=\"data row8 col7\" >0.185726</td>\n",
       "                        <td id=\"T_1b88d_row8_col8\" class=\"data row8 col8\" >1.000000</td>\n",
       "            </tr>\n",
       "    </tbody></table>"
      ],
      "text/plain": [
       "<pandas.io.formats.style.Styler at 0x2090c525e50>"
      ]
     },
     "execution_count": 17,
     "metadata": {},
     "output_type": "execute_result"
    }
   ],
   "source": [
    "corr = df.corr()\n",
    "corr.style.background_gradient(cmap='coolwarm')"
   ]
  },
  {
   "cell_type": "markdown",
   "metadata": {},
   "source": [
    "<a id='eda'></a>\n",
    ">It seems like there's no correlation between appointment and our features\n",
    "**But** there's is a noticeable realtion between Age and Hipertension also between Diabetes and Hipertension lets **plot** these also there is a slight relation that the more you wait the more often you will receive an sms"
   ]
  },
  {
   "cell_type": "code",
   "execution_count": 18,
   "metadata": {},
   "outputs": [
    {
     "data": {
      "image/png": "[encoded data removed]",
      "text/plain": [
       "<Figure size 576x432 with 1 Axes>"
      ]
     },
     "metadata": {
      "needs_background": "light"
     },
     "output_type": "display_data"
    }
   ],
   "source": [
    "mask1 = df['Hipertension'] == 1\n",
    "df_1 = df[mask1]\n",
    "mask2 = df['Hipertension'] == 0\n",
    "df_2 = df[mask2]\n",
    "fig , ax = plt.subplots(figsize=(8,6))\n",
    "ax.hist(df_1['Age'] , alpha = 0.5 , label = 'Hipertension is true')\n",
    "ax.hist(df_2['Age'] , alpha = 0.5 , label = 'Hipertension is false')\n",
    "ax.set_title('realtion between Age and Hipertension')\n",
    "ax.set_xlabel('Age')\n",
    "ax.set_ylabel('count')\n",
    "ax.legend(loc='upper right')\n",
    "plt.show()"
   ]
  },
  {
   "cell_type": "markdown",
   "metadata": {},
   "source": [
    "<a id='eda'></a>\n",
    ">It seems like Hipertension more often to appear in bigger ages "
   ]
  },
  {
   "cell_type": "code",
   "execution_count": 19,
   "metadata": {},
   "outputs": [
    {
     "data": {
      "image/png": "[encoded data removed]",
      "text/plain": [
       "<Figure size 576x432 with 1 Axes>"
      ]
     },
     "metadata": {
      "needs_background": "light"
     },
     "output_type": "display_data"
    }
   ],
   "source": [
    "mask1 = df['Hipertension'] == 1\n",
    "df_1 = df[mask1]\n",
    "mask2 = df['Hipertension'] == 0\n",
    "df_2 = df[mask2]\n",
    "fig , ax = plt.subplots(figsize=(8,6))\n",
    "ax.hist(df_1['Diabetes'] , alpha = 0.5 , label = 'Diabetes is true')\n",
    "ax.hist(df_2['Diabetes'] , alpha = 0.5 , label = 'Diabetes is false')\n",
    "ax.set_title('realtion between Diabetes and Hipertension')\n",
    "ax.set_xlabel('Diabetes')\n",
    "ax.set_ylabel('count')\n",
    "ax.legend(loc='upper right')\n",
    "plt.show()"
   ]
  },
  {
   "cell_type": "markdown",
   "metadata": {},
   "source": [
    "<a id='eda'></a>\n",
    ">It seems like Hipertension more often to occure in person that got Diabetes "
   ]
  },
  {
   "cell_type": "code",
   "execution_count": 20,
   "metadata": {},
   "outputs": [
    {
     "data": {
      "image/png": "[encoded data removed]",
      "text/plain": [
       "<Figure size 576x432 with 1 Axes>"
      ]
     },
     "metadata": {
      "needs_background": "light"
     },
     "output_type": "display_data"
    }
   ],
   "source": [
    "mask1 = df['SMS_received'] == 1\n",
    "df_1 = df[mask1]\n",
    "mask2 = df['SMS_received'] == 0\n",
    "df_2 = df[mask2]\n",
    "fig , ax = plt.subplots(figsize=(8,6))\n",
    "ax.hist(df_1['Waitng_Days'] , alpha = 0.5 , label = 'SMS_received is true')\n",
    "ax.hist(df_2['Waitng_Days'] , alpha = 0.5 , label = 'SMS_received is false')\n",
    "ax.set_title('realtion between Waitng_Days and SMS_received')\n",
    "ax.set_xlabel('Waitng_Days')\n",
    "ax.set_ylabel('count')\n",
    "ax.legend(loc='upper right')\n",
    "plt.show()"
   ]
  },
  {
   "cell_type": "markdown",
   "metadata": {},
   "source": [
    "### Q2 how many have missed??"
   ]
  },
  {
   "cell_type": "code",
   "execution_count": 29,
   "metadata": {},
   "outputs": [
    {
     "data": {
      "image/png": "[encoded data removed]",
      "text/plain": [
       "<Figure size 576x432 with 1 Axes>"
      ]
     },
     "metadata": {
      "needs_background": "light"
     },
     "output_type": "display_data"
    },
    {
     "data": {
      "text/plain": [
       "20.262874783666216"
      ]
     },
     "execution_count": 29,
     "metadata": {},
     "output_type": "execute_result"
    }
   ],
   "source": [
    "mask1 = df['No-show'] == 1\n",
    "df_1 = df[mask1]\n",
    "mask2 = df['No-show'] == 0\n",
    "df_2 = df[mask2]\n",
    "fig , ax = plt.subplots(figsize=(8,6))\n",
    "ax.hist(df_1['No-show'] , label = 'Has missed')\n",
    "ax.hist(df_2['No-show']  , label = 'Has attended')\n",
    "ax.set_title('Have the patient missed the appointment or not')\n",
    "ax.set_ylabel('count')\n",
    "ax.legend(loc='upper right')\n",
    "plt.show()\n",
    "per = (len(df_1.index)/(len(df_1.index)+len(df_2.index)))*100 #percentage that patient has missed\n",
    "per"
   ]
  },
  {
   "cell_type": "markdown",
   "metadata": {},
   "source": [
    "<a id='eda'></a>\n",
    ">It seems like 20% of the paitents has missed their appointment"
   ]
  },
  {
   "cell_type": "markdown",
   "metadata": {},
   "source": [
    "### Q3 how many do have Scholarship??"
   ]
  },
  {
   "cell_type": "code",
   "execution_count": 31,
   "metadata": {},
   "outputs": [
    {
     "data": {
      "image/png": "[encoded data removed]",
      "text/plain": [
       "<Figure size 576x432 with 1 Axes>"
      ]
     },
     "metadata": {
      "needs_background": "light"
     },
     "output_type": "display_data"
    },
    {
     "data": {
      "text/plain": [
       "10.11179194536695"
      ]
     },
     "execution_count": 31,
     "metadata": {},
     "output_type": "execute_result"
    }
   ],
   "source": [
    "mask1 = df['Scholarship'] == 1\n",
    "df_1 = df[mask1]\n",
    "mask2 = df['Scholarship'] == 0\n",
    "df_2 = df[mask2]\n",
    "fig , ax = plt.subplots(figsize=(8,6))\n",
    "ax.hist(df_1['Scholarship'] , label = 'Has Scholarship')\n",
    "ax.hist(df_2['Scholarship']  , label = 'Hasn\\'t Scholarship')\n",
    "ax.set_title('Do the patient got a Scholarship or not ')\n",
    "ax.set_ylabel('count')\n",
    "ax.legend(loc='upper right')\n",
    "plt.show()\n",
    "per = (len(df_1.index)/(len(df_1.index)+len(df_2.index)))*100 #percentage that patient has missed\n",
    "per"
   ]
  },
  {
   "cell_type": "markdown",
   "metadata": {},
   "source": [
    "<a id='eda'></a>\n",
    ">It seems like only 10% got a scholarship "
   ]
  },
  {
   "cell_type": "markdown",
   "metadata": {},
   "source": [
    "### Q4 how is the distribution of females to males?"
   ]
  },
  {
   "cell_type": "code",
   "execution_count": 23,
   "metadata": {},
   "outputs": [
    {
     "name": "stdout",
     "output_type": "stream",
     "text": [
      "percentage of femals to males: 65.5418868983582%\n"
     ]
    },
    {
     "data": {
      "text/plain": [
       "<seaborn.axisgrid.FacetGrid at 0x2090f7e3a60>"
      ]
     },
     "execution_count": 23,
     "metadata": {},
     "output_type": "execute_result"
    },
    {
     "data": {
      "image/png": "[encoded data removed]",
      "text/plain": [
       "<Figure size 360x360 with 1 Axes>"
      ]
     },
     "metadata": {
      "needs_background": "light"
     },
     "output_type": "display_data"
    }
   ],
   "source": [
    "mask1 = df['Gender'] == 'F'\n",
    "df_1 = df[mask1]\n",
    "mask2 = df['Gender'] == 'M'\n",
    "df_2 = df[mask2]\n",
    "per = (len(df_1.index)/(len(df_1.index)+len(df_2.index)))*100\n",
    "print('percentage of femals to males: ' + str(per) +'%')\n",
    "sns.catplot(x=\"Gender\", kind=\"count\", palette=\"ch:.25\", data=df)"
   ]
  },
  {
   "cell_type": "markdown",
   "metadata": {},
   "source": [
    "<a id='eda'></a>\n",
    ">It seems like 65% of patients are females"
   ]
  },
  {
   "cell_type": "markdown",
   "metadata": {},
   "source": [
    "<a id='conclusions'></a>\n",
    "## Conclusions\n",
    "**Firstly, the limitations I have faced:** I couldn't address a proper prediction to find out probability that the patient is most likely gonna miss the appointment or not,with just visualizing and analysing tools but by using logistic regression or deep learning algorthim we could find a fair prediction\n",
    "we also need more data to get more accurate correlation between Diabetes and Hipertension also maybe the person who has diabetes has hipertension and he doesn't know\n",
    "\n",
    "1-Handcap has range of 5 levels\n",
    "\n",
    "2-The correct maximum age is 102 years old\n",
    "\n",
    "3-Maximum waiting days is 179 and minimum is hours\n",
    "\n",
    "5- It seems like there's no correlation between appointment and our features\n",
    "But there's is a noticeable realtion between Age and Hipertension represented as positive correlation 0.50 also between Diabetes and Hipertension 0.43 also there is a slight relation that the more you wait the more often you will receive an sms 0.39\n",
    "\n",
    "6- percentage of missed appointments is: 80%\n",
    "\n",
    "7- percentage of who got Schaolarship: 10% \n",
    "\n",
    "8- percentage of femals to males: 65%\n"
   ]
  }
 ],
 "metadata": {
  "kernelspec": {
   "display_name": "Python 3",
   "language": "python",
   "name": "python3"
  },
  "language_info": {
   "codemirror_mode": {
    "name": "ipython",
    "version": 3
   },
   "file_extension": ".py",
   "mimetype": "text/x-python",
   "name": "python",
   "nbconvert_exporter": "python",
   "pygments_lexer": "ipython3",
   "version": "3.8.8"
  }
 },
 "nbformat": 4,
 "nbformat_minor": 2
}
